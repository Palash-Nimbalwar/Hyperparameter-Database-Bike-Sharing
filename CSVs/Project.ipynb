{
 "cells": [
  {
   "cell_type": "code",
   "execution_count": 243,
   "metadata": {},
   "outputs": [],
   "source": [
    "import os\n",
    "import glob\n",
    "path= r'C:\\Users\\sivat\\OneDrive\\Desktop\\DAE\\Dbms\\Proj\\INFO6105-FinalProject-newzy\\HyperparametersDB\\1850\\*.json'\n",
    "files=glob.glob(path)"
   ]
  },
  {
   "cell_type": "code",
   "execution_count": 244,
   "metadata": {},
   "outputs": [
    {
     "data": {
      "text/html": [
       "<div>\n",
       "<style scoped>\n",
       "    .dataframe tbody tr th:only-of-type {\n",
       "        vertical-align: middle;\n",
       "    }\n",
       "\n",
       "    .dataframe tbody tr th {\n",
       "        vertical-align: top;\n",
       "    }\n",
       "\n",
       "    .dataframe thead th {\n",
       "        text-align: right;\n",
       "    }\n",
       "</style>\n",
       "<table border=\"1\" class=\"dataframe\">\n",
       "  <thead>\n",
       "    <tr style=\"text-align: right;\">\n",
       "      <th></th>\n",
       "      <th>model_id</th>\n",
       "      <th>training_frame</th>\n",
       "      <th>validation_frame</th>\n",
       "      <th>nfolds</th>\n",
       "      <th>keep_cross_validation_models</th>\n",
       "      <th>keep_cross_validation_predictions</th>\n",
       "      <th>keep_cross_validation_fold_assignment</th>\n",
       "      <th>score_each_iteration</th>\n",
       "      <th>score_tree_interval</th>\n",
       "      <th>fold_assignment</th>\n",
       "      <th>...</th>\n",
       "      <th>histogram_type</th>\n",
       "      <th>max_abs_leafnode_pred</th>\n",
       "      <th>pred_noise_bandwidth</th>\n",
       "      <th>categorical_encoding</th>\n",
       "      <th>calibrate_model</th>\n",
       "      <th>calibration_frame</th>\n",
       "      <th>custom_metric_func</th>\n",
       "      <th>export_checkpoints_dir</th>\n",
       "      <th>monotone_constraints</th>\n",
       "      <th>check_constant_response</th>\n",
       "    </tr>\n",
       "  </thead>\n",
       "  <tbody>\n",
       "    <tr>\n",
       "      <th>actual</th>\n",
       "      <td>{'__meta': {'schema_version': 3, 'schema_name'...</td>\n",
       "      <td>{'__meta': {'schema_version': 3, 'schema_name'...</td>\n",
       "      <td>NaN</td>\n",
       "      <td>5</td>\n",
       "      <td>False</td>\n",
       "      <td>True</td>\n",
       "      <td>False</td>\n",
       "      <td>False</td>\n",
       "      <td>5</td>\n",
       "      <td>Modulo</td>\n",
       "      <td>...</td>\n",
       "      <td>AUTO</td>\n",
       "      <td>1.797693e+308</td>\n",
       "      <td>0</td>\n",
       "      <td>AUTO</td>\n",
       "      <td>False</td>\n",
       "      <td>NaN</td>\n",
       "      <td>NaN</td>\n",
       "      <td>NaN</td>\n",
       "      <td>NaN</td>\n",
       "      <td>True</td>\n",
       "    </tr>\n",
       "    <tr>\n",
       "      <th>default</th>\n",
       "      <td>None</td>\n",
       "      <td>None</td>\n",
       "      <td>NaN</td>\n",
       "      <td>0</td>\n",
       "      <td>True</td>\n",
       "      <td>False</td>\n",
       "      <td>False</td>\n",
       "      <td>False</td>\n",
       "      <td>0</td>\n",
       "      <td>AUTO</td>\n",
       "      <td>...</td>\n",
       "      <td>AUTO</td>\n",
       "      <td>1.797693e+308</td>\n",
       "      <td>0</td>\n",
       "      <td>AUTO</td>\n",
       "      <td>False</td>\n",
       "      <td>NaN</td>\n",
       "      <td>NaN</td>\n",
       "      <td>NaN</td>\n",
       "      <td>NaN</td>\n",
       "      <td>True</td>\n",
       "    </tr>\n",
       "  </tbody>\n",
       "</table>\n",
       "<p>2 rows × 57 columns</p>\n",
       "</div>"
      ],
      "text/plain": [
       "                                                  model_id  \\\n",
       "actual   {'__meta': {'schema_version': 3, 'schema_name'...   \n",
       "default                                               None   \n",
       "\n",
       "                                            training_frame  validation_frame  \\\n",
       "actual   {'__meta': {'schema_version': 3, 'schema_name'...               NaN   \n",
       "default                                               None               NaN   \n",
       "\n",
       "         nfolds  keep_cross_validation_models  \\\n",
       "actual        5                         False   \n",
       "default       0                          True   \n",
       "\n",
       "         keep_cross_validation_predictions  \\\n",
       "actual                                True   \n",
       "default                              False   \n",
       "\n",
       "         keep_cross_validation_fold_assignment  score_each_iteration  \\\n",
       "actual                                   False                 False   \n",
       "default                                  False                 False   \n",
       "\n",
       "         score_tree_interval fold_assignment           ...             \\\n",
       "actual                     5          Modulo           ...              \n",
       "default                    0            AUTO           ...              \n",
       "\n",
       "         histogram_type max_abs_leafnode_pred pred_noise_bandwidth  \\\n",
       "actual             AUTO         1.797693e+308                    0   \n",
       "default            AUTO         1.797693e+308                    0   \n",
       "\n",
       "         categorical_encoding  calibrate_model  calibration_frame  \\\n",
       "actual                   AUTO            False                NaN   \n",
       "default                  AUTO            False                NaN   \n",
       "\n",
       "         custom_metric_func  export_checkpoints_dir  monotone_constraints  \\\n",
       "actual                  NaN                     NaN                   NaN   \n",
       "default                 NaN                     NaN                   NaN   \n",
       "\n",
       "         check_constant_response  \n",
       "actual                      True  \n",
       "default                     True  \n",
       "\n",
       "[2 rows x 57 columns]"
      ]
     },
     "execution_count": 244,
     "metadata": {},
     "output_type": "execute_result"
    }
   ],
   "source": [
    "import pandas as pd\n",
    "data10=pd.read_json(files[-10])\n",
    "data10"
   ]
  },
  {
   "cell_type": "code",
   "execution_count": 245,
   "metadata": {},
   "outputs": [
    {
     "name": "stdout",
     "output_type": "stream",
     "text": [
      "{'__meta': {'schema_version': 3, 'schema_name': 'FrameKeyV3', 'schema_type': 'Key<Frame>'}, 'name': 'automl_training_hour6.hex', 'type': 'Key<Frame>', 'URL': '/3/Frames/automl_training_hour6.hex'}\n"
     ]
    }
   ],
   "source": [
    "print(data10.training_frame[\"actual\"])"
   ]
  },
  {
   "cell_type": "code",
   "execution_count": 246,
   "metadata": {},
   "outputs": [
    {
     "name": "stdout",
     "output_type": "stream",
     "text": [
      "C:\\Users\\sivat\\OneDrive\\Desktop\\DAE\\Dbms\\Proj\\INFO6105-FinalProject-newzy\\HyperparametersDB\\1850\\1850_0_GBM_1_AutoML_20190419_022821.json\n",
      "C:\\Users\\sivat\\OneDrive\\Desktop\\DAE\\Dbms\\Proj\\INFO6105-FinalProject-newzy\\HyperparametersDB\\1850\\1850_10_DeepLearning_1_AutoML_20190419_022821.json\n",
      "C:\\Users\\sivat\\OneDrive\\Desktop\\DAE\\Dbms\\Proj\\INFO6105-FinalProject-newzy\\HyperparametersDB\\1850\\1850_11_GBM_4_AutoML_20190419_001144.json\n",
      "C:\\Users\\sivat\\OneDrive\\Desktop\\DAE\\Dbms\\Proj\\INFO6105-FinalProject-newzy\\HyperparametersDB\\1850\\1850_12_XGBoost_1_AutoML_20190418_233434.json\n",
      "C:\\Users\\sivat\\OneDrive\\Desktop\\DAE\\Dbms\\Proj\\INFO6105-FinalProject-newzy\\HyperparametersDB\\1850\\1850_13_XGBoost_3_AutoML_20190419_030035.json\n",
      "C:\\Users\\sivat\\OneDrive\\Desktop\\DAE\\Dbms\\Proj\\INFO6105-FinalProject-newzy\\HyperparametersDB\\1850\\1850_14_XGBoost_1_AutoML_20190419_001144.json\n",
      "C:\\Users\\sivat\\OneDrive\\Desktop\\DAE\\Dbms\\Proj\\INFO6105-FinalProject-newzy\\HyperparametersDB\\1850\\1850_15_XGBoost_2_AutoML_20190418_233434.json\n",
      "C:\\Users\\sivat\\OneDrive\\Desktop\\DAE\\Dbms\\Proj\\INFO6105-FinalProject-newzy\\HyperparametersDB\\1850\\1850_16_XGBoost_3_AutoML_20190418_165441.json\n",
      "C:\\Users\\sivat\\OneDrive\\Desktop\\DAE\\Dbms\\Proj\\INFO6105-FinalProject-newzy\\HyperparametersDB\\1850\\1850_17_XGBoost_2_AutoML_20190418_165441.json\n",
      "C:\\Users\\sivat\\OneDrive\\Desktop\\DAE\\Dbms\\Proj\\INFO6105-FinalProject-newzy\\HyperparametersDB\\1850\\1850_18_XGBoost_grid_1_AutoML_20190419_030035_model_2.json\n",
      "C:\\Users\\sivat\\OneDrive\\Desktop\\DAE\\Dbms\\Proj\\INFO6105-FinalProject-newzy\\HyperparametersDB\\1850\\1850_19_XGBoost_2_AutoML_20190419_015759.json\n",
      "C:\\Users\\sivat\\OneDrive\\Desktop\\DAE\\Dbms\\Proj\\INFO6105-FinalProject-newzy\\HyperparametersDB\\1850\\1850_1_GBM_grid_1_AutoML_20190419_030035_model_1.json\n",
      "C:\\Users\\sivat\\OneDrive\\Desktop\\DAE\\Dbms\\Proj\\INFO6105-FinalProject-newzy\\HyperparametersDB\\1850\\1850_20_XGBoost_3_AutoML_20190419_001144.json\n",
      "C:\\Users\\sivat\\OneDrive\\Desktop\\DAE\\Dbms\\Proj\\INFO6105-FinalProject-newzy\\HyperparametersDB\\1850\\1850_21_XGBoost_1_AutoML_20190419_030035.json\n",
      "C:\\Users\\sivat\\OneDrive\\Desktop\\DAE\\Dbms\\Proj\\INFO6105-FinalProject-newzy\\HyperparametersDB\\1850\\1850_22_XGBoost_3_AutoML_20190419_022821.json\n",
      "C:\\Users\\sivat\\OneDrive\\Desktop\\DAE\\Dbms\\Proj\\INFO6105-FinalProject-newzy\\HyperparametersDB\\1850\\1850_23_XGBoost_1_AutoML_20190418_165441.json\n",
      "C:\\Users\\sivat\\OneDrive\\Desktop\\DAE\\Dbms\\Proj\\INFO6105-FinalProject-newzy\\HyperparametersDB\\1850\\1850_24_XGBoost_1_AutoML_20190418_170819.json\n",
      "C:\\Users\\sivat\\OneDrive\\Desktop\\DAE\\Dbms\\Proj\\INFO6105-FinalProject-newzy\\HyperparametersDB\\1850\\1850_25_GBM_4_AutoML_20190419_015759.json\n",
      "C:\\Users\\sivat\\OneDrive\\Desktop\\DAE\\Dbms\\Proj\\INFO6105-FinalProject-newzy\\HyperparametersDB\\1850\\1850_26_XGBoost_3_AutoML_20190419_015759.json\n",
      "C:\\Users\\sivat\\OneDrive\\Desktop\\DAE\\Dbms\\Proj\\INFO6105-FinalProject-newzy\\HyperparametersDB\\1850\\1850_27_GBM_5_AutoML_20190419_022821.json\n",
      "C:\\Users\\sivat\\OneDrive\\Desktop\\DAE\\Dbms\\Proj\\INFO6105-FinalProject-newzy\\HyperparametersDB\\1850\\1850_28_XGBoost_2_AutoML_20190419_022821.json\n",
      "C:\\Users\\sivat\\OneDrive\\Desktop\\DAE\\Dbms\\Proj\\INFO6105-FinalProject-newzy\\HyperparametersDB\\1850\\1850_29_GBM_2_AutoML_20190419_030035.json\n",
      "C:\\Users\\sivat\\OneDrive\\Desktop\\DAE\\Dbms\\Proj\\INFO6105-FinalProject-newzy\\HyperparametersDB\\1850\\1850_2_GBM_2_AutoML_20190419_022821.json\n",
      "C:\\Users\\sivat\\OneDrive\\Desktop\\DAE\\Dbms\\Proj\\INFO6105-FinalProject-newzy\\HyperparametersDB\\1850\\1850_30_XGBoost_3_AutoML_20190418_170819.json\n",
      "C:\\Users\\sivat\\OneDrive\\Desktop\\DAE\\Dbms\\Proj\\INFO6105-FinalProject-newzy\\HyperparametersDB\\1850\\1850_31_XGBoost_grid_1_AutoML_20190419_030035_model_1.json\n",
      "C:\\Users\\sivat\\OneDrive\\Desktop\\DAE\\Dbms\\Proj\\INFO6105-FinalProject-newzy\\HyperparametersDB\\1850\\1850_32_XGBoost_1_AutoML_20190419_022821.json\n",
      "C:\\Users\\sivat\\OneDrive\\Desktop\\DAE\\Dbms\\Proj\\INFO6105-FinalProject-newzy\\HyperparametersDB\\1850\\1850_33_GBM_4_AutoML_20190419_022821.json\n",
      "C:\\Users\\sivat\\OneDrive\\Desktop\\DAE\\Dbms\\Proj\\INFO6105-FinalProject-newzy\\HyperparametersDB\\1850\\1850_34_GBM_3_AutoML_20190419_030035.json\n",
      "C:\\Users\\sivat\\OneDrive\\Desktop\\DAE\\Dbms\\Proj\\INFO6105-FinalProject-newzy\\HyperparametersDB\\1850\\1850_35_GBM_5_AutoML_20190419_015759.json\n",
      "C:\\Users\\sivat\\OneDrive\\Desktop\\DAE\\Dbms\\Proj\\INFO6105-FinalProject-newzy\\HyperparametersDB\\1850\\1850_36_GBM_grid_1_AutoML_20190419_022821_model_2.json\n",
      "C:\\Users\\sivat\\OneDrive\\Desktop\\DAE\\Dbms\\Proj\\INFO6105-FinalProject-newzy\\HyperparametersDB\\1850\\1850_37_GBM_2_AutoML_20190419_001144.json\n",
      "C:\\Users\\sivat\\OneDrive\\Desktop\\DAE\\Dbms\\Proj\\INFO6105-FinalProject-newzy\\HyperparametersDB\\1850\\1850_38_GBM_5_AutoML_20190419_030035.json\n",
      "C:\\Users\\sivat\\OneDrive\\Desktop\\DAE\\Dbms\\Proj\\INFO6105-FinalProject-newzy\\HyperparametersDB\\1850\\1850_39_XGBoost_2_AutoML_20190419_030035.json\n",
      "C:\\Users\\sivat\\OneDrive\\Desktop\\DAE\\Dbms\\Proj\\INFO6105-FinalProject-newzy\\HyperparametersDB\\1850\\1850_3_GBM_3_AutoML_20190419_001144.json\n",
      "C:\\Users\\sivat\\OneDrive\\Desktop\\DAE\\Dbms\\Proj\\INFO6105-FinalProject-newzy\\HyperparametersDB\\1850\\1850_40_XGBoost_1_AutoML_20190419_015759.json\n",
      "C:\\Users\\sivat\\OneDrive\\Desktop\\DAE\\Dbms\\Proj\\INFO6105-FinalProject-newzy\\HyperparametersDB\\1850\\1850_41_XGBoost_2_AutoML_20190419_001144.json\n",
      "C:\\Users\\sivat\\OneDrive\\Desktop\\DAE\\Dbms\\Proj\\INFO6105-FinalProject-newzy\\HyperparametersDB\\1850\\1850_42_GLM_grid_1_AutoML_20190419_030035_model_1.json\n",
      "C:\\Users\\sivat\\OneDrive\\Desktop\\DAE\\Dbms\\Proj\\INFO6105-FinalProject-newzy\\HyperparametersDB\\1850\\1850_43_GLM_grid_1_AutoML_20190419_001144_model_1.json\n",
      "C:\\Users\\sivat\\OneDrive\\Desktop\\DAE\\Dbms\\Proj\\INFO6105-FinalProject-newzy\\HyperparametersDB\\1850\\1850_44_GLM_grid_1_AutoML_20190419_015759_model_1.json\n",
      "C:\\Users\\sivat\\OneDrive\\Desktop\\DAE\\Dbms\\Proj\\INFO6105-FinalProject-newzy\\HyperparametersDB\\1850\\1850_45_GLM_grid_1_AutoML_20190418_170819_model_1.json\n",
      "C:\\Users\\sivat\\OneDrive\\Desktop\\DAE\\Dbms\\Proj\\INFO6105-FinalProject-newzy\\HyperparametersDB\\1850\\1850_46_GLM_grid_1_AutoML_20190419_022821_model_1.json\n",
      "C:\\Users\\sivat\\OneDrive\\Desktop\\DAE\\Dbms\\Proj\\INFO6105-FinalProject-newzy\\HyperparametersDB\\1850\\1850_47_GBM_3_AutoML_20190419_015759.json\n",
      "C:\\Users\\sivat\\OneDrive\\Desktop\\DAE\\Dbms\\Proj\\INFO6105-FinalProject-newzy\\HyperparametersDB\\1850\\1850_48_XGBoost_2_AutoML_20190418_170819.json\n",
      "C:\\Users\\sivat\\OneDrive\\Desktop\\DAE\\Dbms\\Proj\\INFO6105-FinalProject-newzy\\HyperparametersDB\\1850\\1850_49_DRF_1_AutoML_20190419_015759.json\n",
      "C:\\Users\\sivat\\OneDrive\\Desktop\\DAE\\Dbms\\Proj\\INFO6105-FinalProject-newzy\\HyperparametersDB\\1850\\1850_4_GBM_1_AutoML_20190419_001144.json\n",
      "C:\\Users\\sivat\\OneDrive\\Desktop\\DAE\\Dbms\\Proj\\INFO6105-FinalProject-newzy\\HyperparametersDB\\1850\\1850_50_XRT_1_AutoML_20190419_015759.json\n",
      "C:\\Users\\sivat\\OneDrive\\Desktop\\DAE\\Dbms\\Proj\\INFO6105-FinalProject-newzy\\HyperparametersDB\\1850\\1850_51_DRF_1_AutoML_20190419_030035.json\n",
      "C:\\Users\\sivat\\OneDrive\\Desktop\\DAE\\Dbms\\Proj\\INFO6105-FinalProject-newzy\\HyperparametersDB\\1850\\1850_52_DRF_1_AutoML_20190419_022821.json\n",
      "C:\\Users\\sivat\\OneDrive\\Desktop\\DAE\\Dbms\\Proj\\INFO6105-FinalProject-newzy\\HyperparametersDB\\1850\\1850_53_XRT_1_AutoML_20190419_030035.json\n",
      "C:\\Users\\sivat\\OneDrive\\Desktop\\DAE\\Dbms\\Proj\\INFO6105-FinalProject-newzy\\HyperparametersDB\\1850\\1850_54_DRF_1_AutoML_20190419_001144.json\n",
      "C:\\Users\\sivat\\OneDrive\\Desktop\\DAE\\Dbms\\Proj\\INFO6105-FinalProject-newzy\\HyperparametersDB\\1850\\1850_55_XRT_1_AutoML_20190419_022821.json\n",
      "C:\\Users\\sivat\\OneDrive\\Desktop\\DAE\\Dbms\\Proj\\INFO6105-FinalProject-newzy\\HyperparametersDB\\1850\\1850_56_DeepLearning_1_AutoML_20190419_015759.json\n",
      "C:\\Users\\sivat\\OneDrive\\Desktop\\DAE\\Dbms\\Proj\\INFO6105-FinalProject-newzy\\HyperparametersDB\\1850\\1850_57_GBM_5_AutoML_20190419_001144.json\n",
      "C:\\Users\\sivat\\OneDrive\\Desktop\\DAE\\Dbms\\Proj\\INFO6105-FinalProject-newzy\\HyperparametersDB\\1850\\1850_58_GBM_grid_1_AutoML_20190419_022821_model_1.json\n",
      "C:\\Users\\sivat\\OneDrive\\Desktop\\DAE\\Dbms\\Proj\\INFO6105-FinalProject-newzy\\HyperparametersDB\\1850\\1850_59_GBM_4_AutoML_20190419_030035.json\n",
      "C:\\Users\\sivat\\OneDrive\\Desktop\\DAE\\Dbms\\Proj\\INFO6105-FinalProject-newzy\\HyperparametersDB\\1850\\1850_5_GBM_2_AutoML_20190419_015759.json\n",
      "C:\\Users\\sivat\\OneDrive\\Desktop\\DAE\\Dbms\\Proj\\INFO6105-FinalProject-newzy\\HyperparametersDB\\1850\\1850_60_DRF_1_AutoML_20190418_170819.json\n",
      "C:\\Users\\sivat\\OneDrive\\Desktop\\DAE\\Dbms\\Proj\\INFO6105-FinalProject-newzy\\HyperparametersDB\\1850\\1850_61_DeepLearning_grid_1_AutoML_20190419_022821_model_1.json\n",
      "C:\\Users\\sivat\\OneDrive\\Desktop\\DAE\\Dbms\\Proj\\INFO6105-FinalProject-newzy\\HyperparametersDB\\1850\\1850_62_StackedEnsemble_AllModels_AutoML_20190418_165441.json\n",
      "C:\\Users\\sivat\\OneDrive\\Desktop\\DAE\\Dbms\\Proj\\INFO6105-FinalProject-newzy\\HyperparametersDB\\1850\\1850_63_GBM_grid_1_AutoML_20190419_030035_model_6.json\n",
      "C:\\Users\\sivat\\OneDrive\\Desktop\\DAE\\Dbms\\Proj\\INFO6105-FinalProject-newzy\\HyperparametersDB\\1850\\1850_64_XGBoost_3_AutoML_20190418_233434.json\n",
      "C:\\Users\\sivat\\OneDrive\\Desktop\\DAE\\Dbms\\Proj\\INFO6105-FinalProject-newzy\\HyperparametersDB\\1850\\1850_65_XGBoost_grid_1_AutoML_20190419_022821_model_1.json\n",
      "C:\\Users\\sivat\\OneDrive\\Desktop\\DAE\\Dbms\\Proj\\INFO6105-FinalProject-newzy\\HyperparametersDB\\1850\\1850_66_GBM_grid_1_AutoML_20190419_015759_model_1.json\n",
      "C:\\Users\\sivat\\OneDrive\\Desktop\\DAE\\Dbms\\Proj\\INFO6105-FinalProject-newzy\\HyperparametersDB\\1850\\1850_67_DeepLearning_1_AutoML_20190419_030035.json\n",
      "C:\\Users\\sivat\\OneDrive\\Desktop\\DAE\\Dbms\\Proj\\INFO6105-FinalProject-newzy\\HyperparametersDB\\1850\\1850_68_DRF_1_AutoML_20190418_165441.json\n",
      "C:\\Users\\sivat\\OneDrive\\Desktop\\DAE\\Dbms\\Proj\\INFO6105-FinalProject-newzy\\HyperparametersDB\\1850\\1850_69_XRT_1_AutoML_20190419_001144.json\n",
      "C:\\Users\\sivat\\OneDrive\\Desktop\\DAE\\Dbms\\Proj\\INFO6105-FinalProject-newzy\\HyperparametersDB\\1850\\1850_6_DeepLearning_1_AutoML_20190419_001144.json\n",
      "C:\\Users\\sivat\\OneDrive\\Desktop\\DAE\\Dbms\\Proj\\INFO6105-FinalProject-newzy\\HyperparametersDB\\1850\\1850_70_StackedEnsemble_BestOfFamily_AutoML_20190418_165441.json\n",
      "C:\\Users\\sivat\\OneDrive\\Desktop\\DAE\\Dbms\\Proj\\INFO6105-FinalProject-newzy\\HyperparametersDB\\1850\\1850_71_XGBoost_grid_1_AutoML_20190419_030035_model_3.json\n",
      "C:\\Users\\sivat\\OneDrive\\Desktop\\DAE\\Dbms\\Proj\\INFO6105-FinalProject-newzy\\HyperparametersDB\\1850\\1850_72_XGBoost_grid_1_AutoML_20190419_015759_model_1.json\n",
      "C:\\Users\\sivat\\OneDrive\\Desktop\\DAE\\Dbms\\Proj\\INFO6105-FinalProject-newzy\\HyperparametersDB\\1850\\1850_73_DeepLearning_grid_1_AutoML_20190419_030035_model_1.json\n",
      "C:\\Users\\sivat\\OneDrive\\Desktop\\DAE\\Dbms\\Proj\\INFO6105-FinalProject-newzy\\HyperparametersDB\\1850\\1850_74_DeepLearning_grid_1_AutoML_20190419_030035_model_2.json\n",
      "C:\\Users\\sivat\\OneDrive\\Desktop\\DAE\\Dbms\\Proj\\INFO6105-FinalProject-newzy\\HyperparametersDB\\1850\\1850_75_DeepLearning_grid_1_AutoML_20190419_030035_model_3.json\n",
      "C:\\Users\\sivat\\OneDrive\\Desktop\\DAE\\Dbms\\Proj\\INFO6105-FinalProject-newzy\\HyperparametersDB\\1850\\1850_76_GBM_grid_1_AutoML_20190419_030035_model_4.json\n",
      "C:\\Users\\sivat\\OneDrive\\Desktop\\DAE\\Dbms\\Proj\\INFO6105-FinalProject-newzy\\HyperparametersDB\\1850\\1850_77_GBM_grid_1_AutoML_20190419_015759_model_2.json\n",
      "C:\\Users\\sivat\\OneDrive\\Desktop\\DAE\\Dbms\\Proj\\INFO6105-FinalProject-newzy\\HyperparametersDB\\1850\\1850_78_GBM_grid_1_AutoML_20190419_030035_model_3.json\n",
      "C:\\Users\\sivat\\OneDrive\\Desktop\\DAE\\Dbms\\Proj\\INFO6105-FinalProject-newzy\\HyperparametersDB\\1850\\1850_79_GBM_grid_1_AutoML_20190419_030035_model_2.json\n",
      "C:\\Users\\sivat\\OneDrive\\Desktop\\DAE\\Dbms\\Proj\\INFO6105-FinalProject-newzy\\HyperparametersDB\\1850\\1850_7_GBM_1_AutoML_20190419_030035.json\n",
      "C:\\Users\\sivat\\OneDrive\\Desktop\\DAE\\Dbms\\Proj\\INFO6105-FinalProject-newzy\\HyperparametersDB\\1850\\1850_80_GBM_grid_1_AutoML_20190419_030035_model_5.json\n",
      "C:\\Users\\sivat\\OneDrive\\Desktop\\DAE\\Dbms\\Proj\\INFO6105-FinalProject-newzy\\HyperparametersDB\\1850\\1850_81_XGBoost_grid_1_AutoML_20190419_030035_model_4.json\n",
      "C:\\Users\\sivat\\OneDrive\\Desktop\\DAE\\Dbms\\Proj\\INFO6105-FinalProject-newzy\\HyperparametersDB\\1850\\1850_82_GBM_grid_1_AutoML_20190419_015759_model_3.json\n",
      "C:\\Users\\sivat\\OneDrive\\Desktop\\DAE\\Dbms\\Proj\\INFO6105-FinalProject-newzy\\HyperparametersDB\\1850\\1850_83_GBM_1_AutoML_20190418_170819.json\n",
      "C:\\Users\\sivat\\OneDrive\\Desktop\\DAE\\Dbms\\Proj\\INFO6105-FinalProject-newzy\\HyperparametersDB\\1850\\1850_84_GBM_grid_1_AutoML_20190419_022821_model_3.json\n",
      "C:\\Users\\sivat\\OneDrive\\Desktop\\DAE\\Dbms\\Proj\\INFO6105-FinalProject-newzy\\HyperparametersDB\\1850\\1850_85_GLM_grid_1_AutoML_20190418_165441_model_1.json\n",
      "C:\\Users\\sivat\\OneDrive\\Desktop\\DAE\\Dbms\\Proj\\INFO6105-FinalProject-newzy\\HyperparametersDB\\1850\\1850_86_GLM_grid_1_AutoML_20190418_233434_model_1.json\n",
      "C:\\Users\\sivat\\OneDrive\\Desktop\\DAE\\Dbms\\Proj\\INFO6105-FinalProject-newzy\\HyperparametersDB\\1850\\1850_87_XGBoost_grid_1_AutoML_20190419_015759_model_2.json\n",
      "C:\\Users\\sivat\\OneDrive\\Desktop\\DAE\\Dbms\\Proj\\INFO6105-FinalProject-newzy\\HyperparametersDB\\1850\\1850_8_GBM_3_AutoML_20190419_022821.json\n",
      "C:\\Users\\sivat\\OneDrive\\Desktop\\DAE\\Dbms\\Proj\\INFO6105-FinalProject-newzy\\HyperparametersDB\\1850\\1850_9_GBM_1_AutoML_20190419_015759.json\n"
     ]
    }
   ],
   "source": [
    "for f in files:\n",
    "    print(f)"
   ]
  },
  {
   "cell_type": "code",
   "execution_count": 247,
   "metadata": {},
   "outputs": [],
   "source": [
    "dict={'XGBoost':[\"nfolds\",\"ntrees\",\"max_depth\",\"max_leaves\",\"booster\",\"reg_alpha\",\"validation_frame\",\"training_frame\",\"model_id\"],\"GLM\":[\"nfolds\",\"max_iterations\",\"early_stopping\",\"alpha\",\"lambda\",\"validation_frame\",\"training_frame\",\"model_id\"],\n",
    "     \"GBM\":[\"nfolds\",\"ntrees\",\"max_depth\",\"min_rows\",\"learn_rate\",\"validation_frame\",\"training_frame\",\"model_id\"],\"XRT\":[\"nfolds\",\"ntrees\",\"class_sampling_factors\",\"fold_column\",\"balance_classes\",\"model_id\"],\n",
    "     \"DRF\":[\"validation_frame\",\"training_frame\",\"nfolds\",\"ntrees\",\"max_depth\",\"max_runtime_secs\",\"model_id\"],\"StackedEnsemble\":[\"metalearner_nfolds\",\"seed\",\"keep_levelone_frame\",\"metalearner_fold_column\",\"validation_frame\",\"training_frame\",\"model_id\"],\n",
    "     \"DeepLearning\":[\"nfolds\",\"balance_classes\",\"rate\",\"loss\",\"validation_frame\",\"training_frame\",\"model_id\"]}"
   ]
  },
  {
   "cell_type": "code",
   "execution_count": 248,
   "metadata": {},
   "outputs": [
    {
     "name": "stdout",
     "output_type": "stream",
     "text": [
      "['nfolds', 'ntrees', 'max_depth', 'max_leaves', 'booster', 'reg_alpha', 'validation_frame', 'training_frame', 'model_id']\n",
      "XGBoost\n",
      "['nfolds', 'max_iterations', 'early_stopping', 'alpha', 'lambda', 'validation_frame', 'training_frame', 'model_id']\n",
      "GLM\n",
      "['nfolds', 'ntrees', 'max_depth', 'min_rows', 'learn_rate', 'validation_frame', 'training_frame', 'model_id']\n",
      "GBM\n",
      "['nfolds', 'ntrees', 'class_sampling_factors', 'fold_column', 'balance_classes', 'model_id']\n",
      "XRT\n",
      "['validation_frame', 'training_frame', 'nfolds', 'ntrees', 'max_depth', 'max_runtime_secs', 'model_id']\n",
      "DRF\n",
      "['metalearner_nfolds', 'seed', 'keep_levelone_frame', 'metalearner_fold_column', 'validation_frame', 'training_frame', 'model_id']\n",
      "StackedEnsemble\n",
      "['nfolds', 'balance_classes', 'rate', 'loss', 'validation_frame', 'training_frame', 'model_id']\n",
      "DeepLearning\n"
     ]
    }
   ],
   "source": [
    "for keys in dict:\n",
    "    print(dict[keys])\n",
    "    print(keys)"
   ]
  },
  {
   "cell_type": "code",
   "execution_count": 249,
   "metadata": {},
   "outputs": [],
   "source": [
    "hp_XGBoost_1850=pd.DataFrame(columns=dict[\"XGBoost\"])\n",
    "hp_GLM_1850=pd.DataFrame(columns=dict[\"GLM\"])\n",
    "hp_GBM_1850=pd.DataFrame(columns=dict[\"GBM\"])\n",
    "hp_XRT_1850=pd.DataFrame(columns=dict[\"XRT\"])\n",
    "hp_DRF_1850=pd.DataFrame(columns=dict[\"DRF\"])\n",
    "hp_StackedEnsemble_1850=pd.DataFrame(columns=dict[\"StackedEnsemble\"])\n",
    "hp_DeepLearning_1850=pd.DataFrame(columns=dict[\"DeepLearning\"])"
   ]
  },
  {
   "cell_type": "code",
   "execution_count": 250,
   "metadata": {},
   "outputs": [],
   "source": [
    "for f in files:\n",
    "    if \"XGBoost\" in f:\n",
    "        data1=pd.read_json(f)\n",
    "        datat=data1.transpose()\n",
    "        data1[\"model_id\"]=datat.actual[\"model_id\"][\"name\"]\n",
    "        data1[\"training_frame\"]=datat.actual[\"training_frame\"][\"name\"]\n",
    "        data2=data1[dict[\"XGBoost\"]].copy()\n",
    "        data3=data2.drop(\"default\")\n",
    "        hp_XGBoost_1850=pd.concat([hp_XGBoost_1850,data3],join=\"inner\")\n",
    "        hp_XGBoost_1850[\"runtime\"]=1850\n",
    "    elif \"GLM\" in f:\n",
    "        data1=pd.read_json(f)\n",
    "        datat=data1.transpose()\n",
    "        data1[\"model_id\"]=datat.actual[\"model_id\"][\"name\"]\n",
    "        data1[\"training_frame\"]=datat.actual[\"training_frame\"][\"name\"]\n",
    "        data2=data1[dict[\"GLM\"]].copy()\n",
    "        data3=data2.drop(\"default\")\n",
    "        hp_GLM_1850=pd.concat([hp_GLM_1850,data3],join=\"inner\")\n",
    "        hp_GLM_1850[\"runtime\"]=1850\n",
    "    elif \"GBM\" in f:\n",
    "        data1=pd.read_json(f)\n",
    "        datat=data1.transpose()\n",
    "        data1[\"model_id\"]=datat.actual[\"model_id\"][\"name\"]\n",
    "        data1[\"training_frame\"]=datat.actual[\"training_frame\"][\"name\"]\n",
    "        data2=data1[dict[\"GBM\"]].copy()\n",
    "        data3=data2.drop(\"default\")\n",
    "        hp_GBM_1850=pd.concat([hp_GBM_1850,data3],join=\"inner\")\n",
    "        hp_GBM_1850[\"runtime\"]=1850\n",
    "    elif \"XRT\" in f:\n",
    "        data1=pd.read_json(f)\n",
    "        datat=data1.transpose()\n",
    "        data1[\"model_id\"]=datat.actual[\"model_id\"][\"name\"]\n",
    "        data1[\"training_frame\"]=datat.actual[\"training_frame\"][\"name\"]\n",
    "        data2=data1[dict[\"XRT\"]].copy()\n",
    "        data3=data2.drop(\"default\")\n",
    "        hp_XRT_1850=pd.concat([hp_XRT_1850,data3],join=\"inner\")\n",
    "        hp_XRT_1850[\"runtime\"]=1850\n",
    "    elif \"DRF\" in f:\n",
    "        data1=pd.read_json(f)\n",
    "        datat=data1.transpose()\n",
    "        data1[\"model_id\"]=datat.actual[\"model_id\"][\"name\"]\n",
    "        data1[\"training_frame\"]=datat.actual[\"training_frame\"][\"name\"]\n",
    "        data2=data1[dict[\"DRF\"]].copy()\n",
    "        data3=data2.drop(\"default\")\n",
    "        hp_DRT_1850=pd.concat([hp_DRF_1850,data3],join=\"inner\")\n",
    "        hp_DRT_1850[\"runtime\"]=1850\n",
    "    elif \"StackedEnsemble\" in f:\n",
    "        data1=pd.read_json(f)\n",
    "        datat=data1.transpose()\n",
    "        data1[\"model_id\"]=datat.actual[\"model_id\"][\"name\"]\n",
    "        data1[\"training_frame\"]=datat.actual[\"training_frame\"][\"name\"]\n",
    "        data2=data1[dict[\"StackedEnsemble\"]].copy()\n",
    "        data3=data2.drop(\"default\")\n",
    "        hp_StackedEnsemble_1850=pd.concat([hp_StackedEnsemble_1850,data3],join=\"inner\")\n",
    "        hp_StackedEnsemble_1850[\"runtime\"]=1850\n",
    "    elif \"DeepLearning\" in f:\n",
    "        data1=pd.read_json(f)\n",
    "        datat=data1.transpose()\n",
    "        data1[\"model_id\"]=datat.actual[\"model_id\"][\"name\"]\n",
    "        data1[\"training_frame\"]=datat.actual[\"training_frame\"][\"name\"]\n",
    "        data2=data1[dict[\"DeepLearning\"]].copy()\n",
    "        data3=data2.drop(\"default\")\n",
    "        hp_DeepLearning_1850=pd.concat([hp_DeepLearning_1850,data3],join=\"inner\")\n",
    "        hp_DeepLearning_1850[\"runtime\"]=1850"
   ]
  },
  {
   "cell_type": "code",
   "execution_count": 251,
   "metadata": {},
   "outputs": [],
   "source": [
    "hp_XGBoost_1850.to_csv(\"hp_XGBoost_1850.CSV\")"
   ]
  },
  {
   "cell_type": "code",
   "execution_count": 252,
   "metadata": {},
   "outputs": [],
   "source": [
    "hp_GBM_1850.to_csv(\"hp_GBM_1850.CSV\")"
   ]
  },
  {
   "cell_type": "code",
   "execution_count": 253,
   "metadata": {},
   "outputs": [],
   "source": [
    "hp_GLM_1850.to_csv(\"hp_GLM_1850.CSV\")"
   ]
  },
  {
   "cell_type": "code",
   "execution_count": 254,
   "metadata": {},
   "outputs": [],
   "source": [
    "hp_XRT_1850.to_csv(\"hp_XRT_1850.CSV\")"
   ]
  },
  {
   "cell_type": "code",
   "execution_count": 255,
   "metadata": {},
   "outputs": [],
   "source": [
    "hp_DRT_1850.to_csv(\"hp_DRT_1850.CSV\")"
   ]
  },
  {
   "cell_type": "code",
   "execution_count": 256,
   "metadata": {},
   "outputs": [],
   "source": [
    "hp_StackedEnsemble_1850.to_csv(\"hp_StackedEnsemble_1850.CSV\")"
   ]
  },
  {
   "cell_type": "code",
   "execution_count": 257,
   "metadata": {},
   "outputs": [],
   "source": [
    "hp_DeepLearning_1850.to_csv(\"hp_DeepLearning_1850.CSV\")"
   ]
  },
  {
   "cell_type": "code",
   "execution_count": null,
   "metadata": {},
   "outputs": [],
   "source": []
  }
 ],
 "metadata": {
  "kernelspec": {
   "display_name": "Python 3",
   "language": "python",
   "name": "python3"
  },
  "language_info": {
   "codemirror_mode": {
    "name": "ipython",
    "version": 3
   },
   "file_extension": ".py",
   "mimetype": "text/x-python",
   "name": "python",
   "nbconvert_exporter": "python",
   "pygments_lexer": "ipython3",
   "version": "3.7.1"
  }
 },
 "nbformat": 4,
 "nbformat_minor": 2
}
